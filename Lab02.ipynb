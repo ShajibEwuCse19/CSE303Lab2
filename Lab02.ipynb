{
  "nbformat": 4,
  "nbformat_minor": 0,
  "metadata": {
    "colab": {
      "provenance": [],
      "collapsed_sections": []
    },
    "kernelspec": {
      "name": "python3",
      "display_name": "Python 3"
    },
    "language_info": {
      "name": "python"
    }
  },
  "cells": [
    {
      "cell_type": "markdown",
      "source": [
        "Problem-1"
      ],
      "metadata": {
        "id": "ttLBQP2ph6F5"
      }
    },
    {
      "cell_type": "code",
      "execution_count": 90,
      "metadata": {
        "colab": {
          "base_uri": "https://localhost:8080/"
        },
        "id": "kyFjkWqGhvup",
        "outputId": "7cb96ccc-dfcb-4475-c854-3cd461aba1c0"
      },
      "outputs": [
        {
          "output_type": "stream",
          "name": "stdout",
          "text": [
            "5\n",
            "8\n",
            "Product =  40\n"
          ]
        }
      ],
      "source": [
        "def product(a,b):\n",
        "  return a*b;\n",
        "\n",
        "a = int(input())\n",
        "b = int(input())\n",
        "\n",
        "if(product(a,b)>1000):\n",
        "  print(\"Sum = \",a+b)\n",
        "else:\n",
        "  print(\"Product = \",product(a,b))"
      ]
    },
    {
      "cell_type": "markdown",
      "source": [
        "Problem-2"
      ],
      "metadata": {
        "id": "pXXUofDZjCRf"
      }
    },
    {
      "cell_type": "code",
      "source": [
        "import math\n",
        "def pram(r):\n",
        "  return 2*(math.pi)*r\n",
        "\n",
        "def area(r):\n",
        "  return (math.pi)*(r**2)\n",
        "\n",
        "radius = float(input())\n",
        "\n",
        "print(\"Area = \",area(radius))\n",
        "print(\"Parameter = \",pram(radius))"
      ],
      "metadata": {
        "colab": {
          "base_uri": "https://localhost:8080/"
        },
        "id": "TbPWxjynjEd_",
        "outputId": "a45d7dd9-6e76-46de-a7c6-dfd027f73ca8"
      },
      "execution_count": 91,
      "outputs": [
        {
          "output_type": "stream",
          "name": "stdout",
          "text": [
            "100\n",
            "Area =  31415.926535897932\n",
            "Parameter =  628.3185307179587\n"
          ]
        }
      ]
    },
    {
      "cell_type": "markdown",
      "source": [
        "Problem-3"
      ],
      "metadata": {
        "id": "98hFauARkUQ6"
      }
    },
    {
      "cell_type": "code",
      "source": [
        "def compound_interest_2019160031(P, R, T):\n",
        "  return P * (( 1 + ( R/100 ) )**T)\n",
        "\n",
        "P = float(input())\n",
        "R = float(input())\n",
        "T = float(input())\n",
        "\n",
        "print(\"A = \",compound_interest_2019160031(P,R,T))"
      ],
      "metadata": {
        "colab": {
          "base_uri": "https://localhost:8080/"
        },
        "id": "8KgvihZckTtC",
        "outputId": "e6c338c8-4cc9-4a58-97b5-11eef745a66c"
      },
      "execution_count": 92,
      "outputs": [
        {
          "output_type": "stream",
          "name": "stdout",
          "text": [
            "10\n",
            "20\n",
            "5\n",
            "A =  24.883199999999995\n"
          ]
        }
      ]
    },
    {
      "cell_type": "markdown",
      "source": [
        "Problem-4"
      ],
      "metadata": {
        "id": "DcQXeCfhlU6H"
      }
    },
    {
      "cell_type": "code",
      "source": [
        "def series(N):\n",
        "  sum = 0\n",
        "  for i in range(1,N+1):\n",
        "    sum = sum + (i**2)\n",
        "  return sum\n",
        "\n",
        "N = int(input())\n",
        "print(\"Output = \",series(N))"
      ],
      "metadata": {
        "colab": {
          "base_uri": "https://localhost:8080/"
        },
        "id": "IpNrB7orlXgP",
        "outputId": "526af4f8-e8ef-44f0-8373-61b8c1c59f7a"
      },
      "execution_count": 93,
      "outputs": [
        {
          "output_type": "stream",
          "name": "stdout",
          "text": [
            "8\n",
            "Output =  204\n"
          ]
        }
      ]
    },
    {
      "cell_type": "markdown",
      "source": [
        "Problem-5"
      ],
      "metadata": {
        "id": "Kw6esa07l4-u"
      }
    },
    {
      "cell_type": "code",
      "source": [
        "def prime_find_2019160031(n):\n",
        "  if n<2:\n",
        "    return False\n",
        "  elif n==2:\n",
        "    return True\n",
        "  elif n%2==0:\n",
        "    return False\n",
        "  else:\n",
        "    for i in range(3,N,2):\n",
        "      if n%i==0:\n",
        "        return False\n",
        "  return True\n",
        "\n",
        "n = int(input())\n",
        "if prime_find_2019160031(n):\n",
        "  print(\"Prime\")\n",
        "else:\n",
        "  print(\"Not Prime\")"
      ],
      "metadata": {
        "colab": {
          "base_uri": "https://localhost:8080/"
        },
        "id": "IMmNa-WCl7LW",
        "outputId": "d98dccfe-987b-4c34-e482-ee25c7c44443"
      },
      "execution_count": 99,
      "outputs": [
        {
          "output_type": "stream",
          "name": "stdout",
          "text": [
            "41\n",
            "Prime\n"
          ]
        }
      ]
    },
    {
      "cell_type": "markdown",
      "source": [
        "Problem-6"
      ],
      "metadata": {
        "id": "KXifKtBwqL64"
      }
    },
    {
      "cell_type": "code",
      "source": [
        "from re import I\n",
        "def fib(n):\n",
        "  if n==1:\n",
        "    return 0\n",
        "  elif n==2:\n",
        "    return 1\n",
        "  else:\n",
        "    l=0\n",
        "    r=1\n",
        "    sum = l+r\n",
        "    for i in range(2,n):\n",
        "      sum = l+r\n",
        "      l = r\n",
        "      r = sum\n",
        "    return sum\n",
        "\n",
        "n = int(input())\n",
        "print(n,\"th Fibonacci = \",fib(n))"
      ],
      "metadata": {
        "colab": {
          "base_uri": "https://localhost:8080/"
        },
        "id": "Ib2YtPvKqKOY",
        "outputId": "97795652-9d0c-4d9b-b3d8-59f41b49cafe"
      },
      "execution_count": 95,
      "outputs": [
        {
          "output_type": "stream",
          "name": "stdout",
          "text": [
            "8\n",
            "8 th Fibonacci =  13\n"
          ]
        }
      ]
    },
    {
      "cell_type": "markdown",
      "source": [
        "Problem-7"
      ],
      "metadata": {
        "id": "zJXXzsw2sC08"
      }
    },
    {
      "cell_type": "code",
      "source": [
        "def sum(a):\n",
        "  sum = 0\n",
        "  for i in range(len(a)):\n",
        "    sum = sum + a[i]\n",
        "  return sum\n",
        "\n",
        "list = [1,2,3,4,5]\n",
        "print(\"Sum =\",sum(list))"
      ],
      "metadata": {
        "colab": {
          "base_uri": "https://localhost:8080/"
        },
        "id": "US6L-BO6sEi1",
        "outputId": "f726bcb0-90f4-4c7c-a8cf-83a944bbc881"
      },
      "execution_count": 96,
      "outputs": [
        {
          "output_type": "stream",
          "name": "stdout",
          "text": [
            "Sum = 15\n"
          ]
        }
      ]
    },
    {
      "cell_type": "markdown",
      "source": [
        "Problem-8"
      ],
      "metadata": {
        "id": "Y4wLPZjXsuUf"
      }
    },
    {
      "cell_type": "code",
      "source": [
        "def sum(a):\n",
        "  sum = 0\n",
        "  for i in range(len(a)):\n",
        "    if i%2==0:\n",
        "      sum = sum + a[i]\n",
        "  return sum\n",
        "\n",
        "list = [1,2,3,4,5,6]\n",
        "print(\"Sum =\",sum(list))"
      ],
      "metadata": {
        "colab": {
          "base_uri": "https://localhost:8080/"
        },
        "id": "mU9jcFzFswSQ",
        "outputId": "1b0422f7-9363-4bff-ca17-c00868e6ee6d"
      },
      "execution_count": 97,
      "outputs": [
        {
          "output_type": "stream",
          "name": "stdout",
          "text": [
            "Sum = 9\n"
          ]
        }
      ]
    },
    {
      "cell_type": "markdown",
      "source": [
        "**Extra Part: String Method use**"
      ],
      "metadata": {
        "id": "n1c6GWO0tnio"
      }
    },
    {
      "cell_type": "code",
      "source": [
        "str = \"HEllO woRLd\"\n",
        "print(\"String = \"+str)\n",
        "print(\"String = \"+str.capitalize())\n",
        "print(\"String = \"+str.casefold())\n",
        "print(\"String = \"+str.center(20))\n",
        "print(\"String = \",str.count(\"woRLd\"))\n",
        "print(\"String = \",str.encode())\n",
        "print(\"String = \",str.endswith(\"d\"))\n",
        "print(\"String = \",str.expandtabs())\n",
        "print(\"String = \",str.find(\"E\"))\n",
        "print(\"String = \",str.format())\n",
        "print(\"String = \",str.index(\"wo\"))\n",
        "print(\"String = \",str.isalnum())\n",
        "print(\"String = \",str.isalpha())\n",
        "print(\"String = \",str.isdecimal())\n",
        "print(\"String = \",str.isdigit())\n",
        "print(\"String = \",str.isidentifier())\n",
        "print(\"String = \",str.islower())\n",
        "print(\"String = \",str.isnumeric())\n",
        "print(\"String = \",str.isprintable())\n",
        "print(\"String = \",str.isspace())\n",
        "print(\"String = \",str.istitle())\n",
        "print(\"String = \",str.isupper())\n",
        "print(\"String = \",str.join(\"J O I N\"))\n",
        "print(\"String = \",str.lower())\n",
        "print(\"String = \",str.ljust(20))\n",
        "txt = str\n",
        "temp = txt.maketrans(\"H\",\"P\")\n",
        "print(\"String = \",txt.translate(temp))\n",
        "str = \"Hello World Everyone\"\n",
        "print(\"String = \",str.partition(\"World\"))\n",
        "print(\"String = \",str.replace(\"Hello\",\"Replace\"))\n",
        "print(\"String = \",str.rfind(\"World\"))\n",
        "print(\"String = \",str.rpartition(\"World\"))\n",
        "print(\"String = \",str.split())\n",
        "print(\"String = \",str.splitlines())\n",
        "print(\"String = \",str.startswith('H'))\n",
        "print(\"String = \",str.swapcase())\n",
        "print(\"String = \",str.title())\n",
        "print(\"String = \",str.translate(\"H\"))\n",
        "print(\"String = \",str.upper())\n",
        "str = \"100\"\n",
        "print(\"String = \",str.zfill(20))\n",
        "\n",
        "\n"
      ],
      "metadata": {
        "colab": {
          "base_uri": "https://localhost:8080/"
        },
        "id": "jio3gXirttSr",
        "outputId": "707af56c-77f3-4dc6-f4a5-2587d99e15b9"
      },
      "execution_count": 98,
      "outputs": [
        {
          "output_type": "stream",
          "name": "stdout",
          "text": [
            "String = HEllO woRLd\n",
            "String = Hello world\n",
            "String = hello world\n",
            "String =     HEllO woRLd     \n",
            "String =  1\n",
            "String =  b'HEllO woRLd'\n",
            "String =  True\n",
            "String =  HEllO woRLd\n",
            "String =  1\n",
            "String =  HEllO woRLd\n",
            "String =  6\n",
            "String =  False\n",
            "String =  False\n",
            "String =  False\n",
            "String =  False\n",
            "String =  False\n",
            "String =  False\n",
            "String =  False\n",
            "String =  True\n",
            "String =  False\n",
            "String =  False\n",
            "String =  False\n",
            "String =  JHEllO woRLd HEllO woRLdOHEllO woRLd HEllO woRLdIHEllO woRLd HEllO woRLdN\n",
            "String =  hello world\n",
            "String =  HEllO woRLd         \n",
            "String =  PEllO woRLd\n",
            "String =  ('Hello ', 'World', ' Everyone')\n",
            "String =  Replace World Everyone\n",
            "String =  6\n",
            "String =  ('Hello ', 'World', ' Everyone')\n",
            "String =  ['Hello', 'World', 'Everyone']\n",
            "String =  ['Hello World Everyone']\n",
            "String =  True\n",
            "String =  hELLO wORLD eVERYONE\n",
            "String =  Hello World Everyone\n",
            "String =  Hello World Everyone\n",
            "String =  HELLO WORLD EVERYONE\n",
            "String =  00000000000000000100\n"
          ]
        }
      ]
    }
  ]
}